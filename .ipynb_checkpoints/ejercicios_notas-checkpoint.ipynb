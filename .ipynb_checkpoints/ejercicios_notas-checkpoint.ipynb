{
 "cells": [
  {
   "cell_type": "markdown",
   "metadata": {},
   "source": [
    "# Ejercicio 1:"
   ]
  },
  {
   "cell_type": "code",
   "execution_count": null,
   "metadata": {},
   "outputs": [],
   "source": [
    "lista1 = []\n",
    "n = int(input(\"ingrese el largo de la lista: \"))\n",
    "while n < 1:\n",
    "\tn = int(input(\"ingrese el largo de la lista: \"))\n",
    "for i in range(0, n):\n",
    "\tlista1.append(input(\"ingrese nombre de usuario: \"))\n",
    "for i in lista1:\n",
    "\tprint(\"Hola \", i)"
   ]
  },
  {
   "cell_type": "markdown",
   "metadata": {},
   "source": [
    "# Ejercicio 2:"
   ]
  },
  {
   "cell_type": "code",
   "execution_count": null,
   "metadata": {},
   "outputs": [],
   "source": [
    "lista2 = []\n",
    "boo = True\n",
    "n = int(input(\"ingrese el numero de personas que desea invitar: \"))\n",
    "while n < 1:\n",
    "\tn = int(input(\"ingrese el numero de personas que desea invitar: \"))\n",
    "for i in range(0, n):\n",
    "\tlista2.append(input(\"ingrese nombre del invitado: \"))\n",
    "print(lista2)\n",
    "while boo:\n",
    "\tc = input(\"desea invitar, cambiar o eliminar algun invitado?/para salir escribir salir\")\n",
    "\tif c.lower() == \"invitar\":\n",
    "\t\tinv = lista2.append(input(\"ingrese el nombre del invitado: \"))\n",
    "\telif c.lower() == \"cambiar\":\n",
    "\t\tpos = print(int(input(\"ingrese la posicion del invitado en la lista\")))\n",
    "\t\tinvnuev = print(input(\"nombre del nuevo invitado: \"))\n",
    "\t\tlista2[pos] = invnuev\n",
    "\telif c.lower() == \"eliminar\":\n",
    "\t\telim = print(input(\"que invitado desea eleminar: \"))\n",
    "\t\tlista2.remove(elim)\n",
    "\t\tprint(lista2)\n",
    "\telif c.lower() == \"salir\":\n",
    "\t\tprint(\"hay \", len(lista2), \"invitados a la fiesta: \")\n",
    "\t\tprint(\"lista de invitados: \")\n",
    "\t\tfor i in lista2:\n",
    "\t\t\tprint(i)\n",
    "\t\tboo = False\n"
   ]
  },
  {
   "cell_type": "markdown",
   "metadata": {},
   "source": [
    "# Ejercicio 3:"
   ]
  },
  {
   "cell_type": "code",
   "execution_count": null,
   "metadata": {},
   "outputs": [],
   "source": [
    "lista3 = []\n",
    "n = int(input(\"ingrese el largo de la lista: \"))\n",
    "while n < 1:\n",
    "\tn = int(input(\"ingrese el largo de la lista: \"))\n",
    "\n",
    "for i in range(2, n*2, 2):\n",
    "\tnumero = i**3\n",
    "\tlista3.append(int(numero))"
   ]
  },
  {
   "cell_type": "markdown",
   "metadata": {},
   "source": [
    "# Ejercicio 3.1:"
   ]
  },
  {
   "cell_type": "code",
   "execution_count": null,
   "metadata": {},
   "outputs": [],
   "source": [
    "def elevando_numeros(listax, m):\n",
    "\tfor i in range(2, m*2, 2):\n",
    "\t\tnumero = i**3\n",
    "\t\tlistax.append(int(numero))\n",
    "\tprint(listax)\n",
    "\tpass\n",
    "\n",
    "lista4 = []\n",
    "n = int(input(\"ingrese el largo de la lista: \"))\n",
    "while n < 1:\n",
    "\tn = int(input(\"ingrese el largo de la lista: \"))\n",
    "elevando_numeros(lista4,n)"
   ]
  },
  {
   "cell_type": "markdown",
   "metadata": {},
   "source": [
    "# Ejercicio 4:"
   ]
  },
  {
   "cell_type": "code",
   "execution_count": null,
   "metadata": {},
   "outputs": [],
   "source": [
    "lista5 = []\n",
    "n = int(input(\"ingrese el largo de la lista: \"))\n",
    "while n < 1:\n",
    "\tn = int(input(\"ingrese el largo de la lista: \"))\n",
    "for i in range(0, n):\n",
    "\tx = input(\"ingrese nombre: \")\n",
    "\twhile x.lower() in lista5 or x.lower() == \"admin\":\n",
    "\t\tx = input(\"ingrese nombre: \")\n",
    "\n",
    "\tlista5.append(x)\n",
    "print(lista5)"
   ]
  },
  {
   "cell_type": "markdown",
   "metadata": {},
   "source": [
    "# Ejercicio 4.1:"
   ]
  },
  {
   "cell_type": "code",
   "execution_count": null,
   "metadata": {},
   "outputs": [],
   "source": [
    "def ingresando_cosas(listax, m):\n",
    "\tfor i in range(0, n):\n",
    "\t\tx = input(\"ingrese nombre: \")\n",
    "\t\twhile x.lower() in listax or x.lower() == \"admin\":\n",
    "\t\t\tx = input(\"ingrese nombre: \")\n",
    "\t\tlistax.append(x)\n",
    "\tprint(listax)\n",
    "\tpass\n",
    "\n",
    "lista6 = []\n",
    "n = int(input(\"ingrese el largo de la lista: \"))\n",
    "while n < 1:\n",
    "\tn = int(input(\"ingrese el largo de la lista: \"))\n",
    "ingresando_cosas(lista6, n)"
   ]
  }
 ],
 "metadata": {
  "kernelspec": {
   "display_name": "Python 3",
   "language": "python",
   "name": "python3"
  },
  "language_info": {
   "codemirror_mode": {
    "name": "ipython",
    "version": 3
   },
   "file_extension": ".py",
   "mimetype": "text/x-python",
   "name": "python",
   "nbconvert_exporter": "python",
   "pygments_lexer": "ipython3",
   "version": "3.7.3"
  }
 },
 "nbformat": 4,
 "nbformat_minor": 2
}
