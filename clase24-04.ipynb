{
 "cells": [
  {
   "cell_type": "code",
   "execution_count": 1,
   "metadata": {},
   "outputs": [
    {
     "name": "stdout",
     "output_type": "stream",
     "text": [
      "hola\n"
     ]
    }
   ],
   "source": [
    "def saludo():\n",
    "    print(\"hola\")\n",
    "    pass\n",
    "saludo()"
   ]
  },
  {
   "cell_type": "code",
   "execution_count": 3,
   "metadata": {},
   "outputs": [
    {
     "name": "stdout",
     "output_type": "stream",
     "text": [
      "7\n"
     ]
    }
   ],
   "source": [
    "def suma(num1, num2):\n",
    "    print(num1 + num2)\n",
    "    pass\n",
    "suma(3, 4)"
   ]
  },
  {
   "cell_type": "code",
   "execution_count": 13,
   "metadata": {},
   "outputs": [
    {
     "name": "stdout",
     "output_type": "stream",
     "text": [
      "ingrese el largo de la lista: 8\n",
      "[8, 64, 216, 512, 1000, 1728, 2744]\n"
     ]
    }
   ],
   "source": [
    "def elevando_numeros(listax, m):\n",
    "\tfor i in range(2, m*2, 2):\n",
    "\t\tnumero = i**3\n",
    "\t\tlista.append(int(numero))\n",
    "\tprint(lista)\n",
    "\tpass\n",
    "\n",
    "lista = []\n",
    "n = int(input(\"ingrese el largo de la lista: \"))\n",
    "while n < 1:\n",
    "\tn = int(input(\"ingrese el largo de la lista: \"))\n",
    "elevando_numeros(lista,n)"
   ]
  },
  {
   "cell_type": "code",
   "execution_count": null,
   "metadata": {},
   "outputs": [],
   "source": []
  },
  {
   "cell_type": "code",
   "execution_count": null,
   "metadata": {},
   "outputs": [],
   "source": []
  }
 ],
 "metadata": {
  "kernelspec": {
   "display_name": "Python 3",
   "language": "python",
   "name": "python3"
  },
  "language_info": {
   "codemirror_mode": {
    "name": "ipython",
    "version": 3
   },
   "file_extension": ".py",
   "mimetype": "text/x-python",
   "name": "python",
   "nbconvert_exporter": "python",
   "pygments_lexer": "ipython3",
   "version": "3.7.3"
  }
 },
 "nbformat": 4,
 "nbformat_minor": 2
}
